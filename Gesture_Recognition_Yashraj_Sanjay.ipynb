{
 "cells": [
  {
   "cell_type": "markdown",
   "metadata": {
    "id": "MLXnWkM8iGQx"
   },
   "source": [
    "# PG Diploma in Machine Learning and AI from IIIT Bangalore | Upgrad\n",
    "\n",
    "#### Developed by:\n",
    "##### 1. Sanjay Belgaonkar - Group facilitator\n",
    "##### 2. Yashraj Pathak\n",
    "\n",
    "## Deep Learning Course Project - Gesture Recognition\n",
    "\n",
    "### Problem Statement\n",
    "Imagine you are working as a data scientist at a home electronics company which manufactures state of the art smart televisions. You want to develop a cool feature in the smart-TV that can recognise five different gestures performed by the user which will help users control the TV without using a remote.\n",
    "\n",
    "The gestures are continuously monitored by the webcam mounted on the TV. Each gesture corresponds to a specific command:\n",
    " \n",
    "| Gesture | Corresponding Action |\n",
    "| --- | --- | \n",
    "| Thumbs Up | Increase the volume. |\n",
    "| Thumbs Down | Decrease the volume. |\n",
    "| Left Swipe | 'Jump' backwards 10 seconds. |\n",
    "| Right Swipe | 'Jump' forward 10 seconds. |\n",
    "| Stop | Pause the movie. |\n",
    "\n",
    "Each video is a sequence of 30 frames (or images).\n",
    "\n",
    "### Objectives:\n",
    "1. **Generator**:  The generator should be able to take a batch of videos as input without any error. Steps like cropping, resizing and normalization should be performed successfully.\n",
    "\n",
    "2. **Model**: Develop a model that is able to train without any errors which will be judged on the total number of parameters (as the inference(prediction) time should be less) and the accuracy achieved. As suggested by Snehansu, start training on a small amount of data and then proceed further.\n",
    "\n",
    "3. **Write up**: This should contain the detailed procedure followed in choosing the final model. The write up should start with the reason for choosing the base model, then highlight the reasons and metrics taken into consideration to modify and experiment to arrive at the final model. "
   ]
  },
  {
   "cell_type": "code",
   "execution_count": 84,
   "metadata": {
    "id": "mzH263lmCauV"
   },
   "outputs": [],
   "source": [
    "#!nvidia-smi"
   ]
  },
  {
   "cell_type": "markdown",
   "metadata": {
    "id": "GMdp1qFSDetD"
   },
   "source": [
    "## Importing Data:"
   ]
  },
  {
   "cell_type": "code",
   "execution_count": 85,
   "metadata": {
    "colab": {
     "base_uri": "https://localhost:8080/"
    },
    "id": "L0Xc-ewY1mkN",
    "outputId": "511829d5-b118-4618-c225-fc7ac9c7b841"
   },
   "outputs": [],
   "source": [
    "#from google.colab import drive\n",
    "#drive.mount('/content/drive')"
   ]
  },
  {
   "cell_type": "code",
   "execution_count": 86,
   "metadata": {
    "id": "_-cB4NjZwim4"
   },
   "outputs": [],
   "source": [
    "#!cp '/content/drive/MyDrive/Project_data.zip' '/content'\n",
    "#!unzip '/content/Project_data.zip' -d '/content/Gesture'"
   ]
  },
  {
   "cell_type": "markdown",
   "metadata": {
    "id": "EpyraxQmDVkX"
   },
   "source": [
    "### Importing all necessary Libraries:"
   ]
  },
  {
   "cell_type": "code",
   "execution_count": 87,
   "metadata": {
    "id": "yGkAcytxxH7N"
   },
   "outputs": [],
   "source": [
    "import numpy as np\n",
    "import pandas as pd\n",
    "import tensorflow as tf\n",
    "from keras import backend as K\n",
    "import random as rn\n",
    "import os\n",
    "from imageio import imread\n",
    "import cv2\n",
    "import matplotlib.pyplot as plt\n",
    "#% matplotlib inline\n",
    "import datetime\n",
    "import time\n",
    "\n",
    "from keras.models import Sequential, Model\n",
    "from keras.layers import Dense, GRU, Flatten, TimeDistributed, Flatten, BatchNormalization, Activation\n",
    "from keras.layers.convolutional import Conv3D, MaxPooling3D, Conv2D, MaxPooling2D\n",
    "from keras.callbacks import ModelCheckpoint, ReduceLROnPlateau\n",
    "from keras.layers.recurrent import LSTM\n",
    "from keras import optimizers\n",
    "from keras.layers import Dropout\n",
    "from keras.applications import mobilenet\n",
    "from keras import backend as K"
   ]
  },
  {
   "cell_type": "markdown",
   "metadata": {
    "id": "udCVRNw1DSJo"
   },
   "source": [
    "We set the random seed so that the results don't vary drastically."
   ]
  },
  {
   "cell_type": "code",
   "execution_count": 88,
   "metadata": {
    "id": "xqBlG5jYwu_t"
   },
   "outputs": [],
   "source": [
    "np.random.seed(30)\n",
    "rn.seed(30)\n",
    "tf.random.set_seed(30)"
   ]
  },
  {
   "cell_type": "markdown",
   "metadata": {
    "id": "sZgdcQ5DD43F"
   },
   "source": [
    "## Deriving Data Folder Path:\n"
   ]
  },
  {
   "cell_type": "code",
   "execution_count": 89,
   "metadata": {
    "id": "jDbW2W58304Q"
   },
   "outputs": [],
   "source": [
    "data_folder = 'datasets/Project_data'\n",
    "train_path = data_folder + '/train'\n",
    "val_path = data_folder + '/val'\n",
    "\n",
    "total_frames = 30\n",
    "num_gestures = 5\n",
    "\n",
    "trial_count = 1"
   ]
  },
  {
   "cell_type": "markdown",
   "metadata": {
    "id": "H1Ib5FsOEJo7"
   },
   "source": [
    "In this block, you read the folder names for training and validation. You also set the `batch_size` here. Note that you set the batch size in such a way that you are able to use the GPU in full capacity. You keep increasing the batch size until the machine throws an error."
   ]
  },
  {
   "cell_type": "code",
   "execution_count": 90,
   "metadata": {
    "id": "5GbXPvwu3yAw"
   },
   "outputs": [],
   "source": [
    "train_doc = np.random.permutation(open(data_folder + '/train.csv').readlines())\n",
    "val_doc = np.random.permutation(open(data_folder + '/val.csv').readlines())"
   ]
  },
  {
   "cell_type": "markdown",
   "metadata": {
    "id": "_-7TtfRXEdXE"
   },
   "source": [
    "## Generator\n",
    "This is one of the most important part of the code. The overall structure of the generator has been given. In the generator, you are going to preprocess the images as you have images of 2 different dimensions as well as create a batch of video frames. You have to experiment with `img_idx`, `y`,`z` and normalization such that you get high accuracy."
   ]
  },
  {
   "cell_type": "code",
   "execution_count": 91,
   "metadata": {
    "id": "VpXfYjbcxGOn"
   },
   "outputs": [],
   "source": [
    "# function to plot the training/validation accuracies/losses.\n",
    "\n",
    "def plot_training_validation_graph(history):\n",
    "    fig, axes = plt.subplots(nrows=1, ncols=2, figsize=(15,4))\n",
    "    axes[0].plot(history.history['loss'])   \n",
    "    axes[0].plot(history.history['val_loss'])\n",
    "    axes[0].legend(['loss','val_loss'])\n",
    "\n",
    "    axes[1].plot(history.history['categorical_accuracy'])   \n",
    "    axes[1].plot(history.history['val_categorical_accuracy'])\n",
    "    axes[1].legend(['categorical_accuracy','val_categorical_accuracy'])\n",
    "    plt.show()"
   ]
  },
  {
   "cell_type": "code",
   "execution_count": 92,
   "metadata": {
    "id": "zOC55zDDDn2u"
   },
   "outputs": [],
   "source": [
    "def get_batch_data(source_path, folder_list, batch_size, num_gesture_frames, image_size, num_channels, batch, img_idx, t) :\n",
    "  batch_data = np.zeros((batch_size,num_gesture_frames,image_size,image_size,num_channels)) # x is the number of images you use for each video, (y,z) is the final size of the input images and 3 is the number of channels RGB\n",
    "  batch_labels = np.zeros((batch_size,num_gestures)) # batch_labels is the one hot representation of the output\n",
    "  for folder in range(batch_size): # iterate over the batch_size\n",
    "      gesture_info = t[folder + batch * batch_size].strip().split(';')            \n",
    "      imgs = os.listdir(source_path+'/'+ gesture_info[0]) # read all the images in the folder\n",
    "      for idx,item in enumerate(img_idx): #  Iterate iver the frames/images of a folder to read them in\n",
    "          if num_channels == 3 :\n",
    "            image = imread(source_path + '/' + gesture_info[0] +'/'+imgs[item]).astype(np.float32)\n",
    "            \n",
    "            #crop the images and resize them. Note that the images are of 2 different shape \n",
    "            #and the conv3D will throw error if the inputs in a batch have different shapes\n",
    "            image = cv2.resize(image, (image_size, image_size))\n",
    "\n",
    "            batch_data[folder,idx,:,:,0] = (image[:,:,0]) / 255.0 #normalise and feed in the image\n",
    "            batch_data[folder,idx,:,:,1] = (image[:,:,1]) / 255.0 #normalise and feed in the image\n",
    "            batch_data[folder,idx,:,:,2] = (image[:,:,2]) / 255.0  #normalise and feed in the image\n",
    "          else :\n",
    "            image = cv2.imread(source_path + '/' + gesture_info[0] +'/'+imgs[item], cv2.IMREAD_GRAYSCALE)\n",
    "            image = cv2.resize(image, (image_size, image_size))\n",
    "            batch_data[folder,idx,:,:,0] = image / 255.0\n",
    "\n",
    "      batch_labels[folder, int(gesture_info[2])] = 1\n",
    "  return batch_data, batch_labels #you yield the batch_data and the batch_labels, remember what does yield do\n"
   ]
  },
  {
   "cell_type": "code",
   "execution_count": 93,
   "metadata": {
    "id": "Va_ojHz--zgF"
   },
   "outputs": [],
   "source": [
    "def generator(source_path, folder_list, batch_size, num_gesture_frames, image_size, num_channels):\n",
    "    #print( 'Source path = ', source_path, '; batch size =', batch_size)\n",
    "    img_idx =  np.round(np.linspace(0, total_frames - 1, num_gesture_frames)).astype(int) #create a list of image numbers you want to use for a particular video\n",
    "\n",
    "    while True:\n",
    "        t = np.random.permutation(folder_list)\n",
    "        num_batches =  len(t) // batch_size # calculate the number of batches\n",
    "        for batch in range(num_batches): # we iterate over the number of batches\n",
    "            yield get_batch_data(source_path, folder_list, batch_size, num_gesture_frames, image_size, num_channels, batch, img_idx, t)\n",
    "        \n",
    "        # write the code for the remaining data points which are left after full batches\n",
    "\n",
    "        rem_batch_size = len(t) % batch_size\n",
    "        yield get_batch_data(source_path, folder_list, rem_batch_size, num_gesture_frames, image_size, num_channels, num_batches, img_idx, t)\n",
    "\n"
   ]
  },
  {
   "cell_type": "markdown",
   "metadata": {
    "id": "P3mt8nRCEtdy"
   },
   "source": [
    "### Model Function:"
   ]
  },
  {
   "cell_type": "code",
   "execution_count": 94,
   "metadata": {
    "id": "Uzq1K-GNAnk0"
   },
   "outputs": [],
   "source": [
    "def build_model(model_text, model, batch_size, num_epochs, num_gesture_frames, image_size, num_channels, learning_rate=0.001) :\n",
    "  optimiser = tf.keras.optimizers.Adam(learning_rate=learning_rate)\n",
    "  model.compile(optimizer=optimiser, loss='categorical_crossentropy', metrics=['categorical_accuracy'])\n",
    "\n",
    "  train_generator = generator(train_path, train_doc, batch_size, num_gesture_frames, image_size, num_channels)\n",
    "  val_generator = generator(val_path, val_doc, batch_size, num_gesture_frames, image_size, num_channels)\n",
    "\n",
    "  num_train_sequences = len(train_doc) \n",
    "  num_val_sequences = len(val_doc) \n",
    "\n",
    "  if (num_train_sequences % batch_size) == 0:\n",
    "      steps_per_epoch = int(num_train_sequences/batch_size)\n",
    "  else:\n",
    "      steps_per_epoch = (num_train_sequences//batch_size) + 1\n",
    "\n",
    "  if (num_val_sequences%batch_size) == 0:\n",
    "      validation_steps = int(num_val_sequences/batch_size)\n",
    "  else:\n",
    "      validation_steps = (num_val_sequences//batch_size) + 1\n",
    "\n",
    "  model_name = model_text + '_' + str(datetime.datetime.now()).replace(' ','').replace(':','_') + '/'\n",
    "      \n",
    "  if not os.path.exists(model_name):\n",
    "      os.mkdir(model_name)\n",
    "\n",
    "  filepath = model_name + 'model-{epoch:05d}-{loss:.5f}-{categorical_accuracy:.5f}-{val_loss:.5f}-{val_categorical_accuracy:.5f}.h5'\n",
    "\n",
    "  checkpoint = ModelCheckpoint(filepath, monitor='val_loss', verbose=0, save_best_only=True, save_weights_only=False, mode='auto', save_freq='epoch')\n",
    "  LR = ReduceLROnPlateau(monitor='val_loss', factor=0.2, verbose=0, patience=4)\n",
    "  callbacks_list = [checkpoint, LR] \n",
    "\n",
    "  history = model.fit(train_generator, steps_per_epoch=steps_per_epoch, epochs=num_epochs, verbose=0, \n",
    "                    callbacks=callbacks_list, validation_data=val_generator, \n",
    "                    validation_steps=validation_steps, class_weight=None, workers=1, initial_epoch=0)\n",
    "  \n",
    "  plot_training_validation_graph(history)\n",
    "  return history"
   ]
  },
  {
   "cell_type": "markdown",
   "metadata": {
    "id": "U2KbZqrAEoDn"
   },
   "source": [
    "### Model Memory function:"
   ]
  },
  {
   "cell_type": "code",
   "execution_count": 95,
   "metadata": {
    "id": "btqSW9PO6DNZ"
   },
   "outputs": [],
   "source": [
    "def get_model_memory_usage(batch_size, model):\n",
    "    shapes_mem_count = 0\n",
    "    internal_model_mem_count = 0\n",
    "    for l in model.layers:\n",
    "        layer_type = l.__class__.__name__\n",
    "        if layer_type == 'Model':\n",
    "            internal_model_mem_count += get_model_memory_usage(batch_size, l)\n",
    "        single_layer_mem = 1\n",
    "        out_shape = l.output_shape\n",
    "        if type(out_shape) is list:\n",
    "            out_shape = out_shape[0]\n",
    "        for s in out_shape:\n",
    "            if s is None:\n",
    "                continue\n",
    "            single_layer_mem *= s\n",
    "        shapes_mem_count += single_layer_mem\n",
    "\n",
    "    trainable_count = np.sum([K.count_params(p) for p in model.trainable_weights])\n",
    "    non_trainable_count = np.sum([K.count_params(p) for p in model.non_trainable_weights])\n",
    "\n",
    "    number_size = 4.0\n",
    "    if K.floatx() == 'float16':\n",
    "        number_size = 2.0\n",
    "    if K.floatx() == 'float64':\n",
    "        number_size = 8.0\n",
    "\n",
    "    total_memory = number_size * (batch_size * shapes_mem_count + trainable_count + non_trainable_count)\n",
    "    mbs = np.round(total_memory / (1024.0 ** 2), 3) + internal_model_mem_count\n",
    "    return mbs"
   ]
  },
  {
   "cell_type": "markdown",
   "metadata": {
    "id": "bjL-Ge6mJSoO"
   },
   "source": [
    "### Model:\n",
    "Here you make the model using different functionalities that Keras provides. Remember to use Conv3D and MaxPooling3D and not Conv2D and Maxpooling2D for a 3D convolution model. You would want to use TimeDistributed while building a Conv2D + RNN model. Also remember that the last layer is the softmax. Design the network in such a way that the model is able to give good accuracy on the least number of parameters so that it can fit in the memory of the webcam."
   ]
  },
  {
   "cell_type": "markdown",
   "metadata": {
    "id": "do8h1zq2E4Sa"
   },
   "source": [
    "### CNN_3D function:"
   ]
  },
  {
   "cell_type": "code",
   "execution_count": 96,
   "metadata": {
    "id": "d4TMlwQruKRd"
   },
   "outputs": [],
   "source": [
    "def try_cnn3d_only(batch_size, num_epochs, num_gesture_frames, image_size, num_channels, batch_normalize, learning_rate, dropout, dense_neurons) :\n",
    "  model = Sequential()\n",
    "  model.add(Conv3D(16, (3, 3, 3), padding='same', input_shape=(num_gesture_frames,image_size,image_size,num_channels)))\n",
    "  model.add(Activation('relu'))\n",
    "  model.add(MaxPooling3D(pool_size=(2, 2, 2)))\n",
    "\n",
    "  model.add(Conv3D(32, (2, 2, 2), padding='same'))\n",
    "  model.add(Activation('relu'))\n",
    "  model.add(MaxPooling3D(pool_size=(2, 2, 2)))\n",
    "\n",
    "  model.add(Conv3D(64, (2, 2, 2), padding='same'))\n",
    "  model.add(Activation('relu'))\n",
    "  model.add(MaxPooling3D(pool_size=(2, 2, 2)))\n",
    "\n",
    "  model.add(Conv3D(128, (2, 2, 2), padding='same'))\n",
    "  model.add(Activation('relu'))\n",
    "  model.add(MaxPooling3D(pool_size=(2, 2, 2)))\n",
    "\n",
    "  model.add(Flatten())\n",
    "  model.add(Dense(dense_neurons,activation='relu'))\n",
    "  model.add(Dropout(dropout))\n",
    "\n",
    "  model.add(Dense(dense_neurons // 2,activation='relu'))\n",
    "  if batch_normalize:\n",
    "    model.add(BatchNormalization())   \n",
    "  model.add(Dropout(dropout))\n",
    "\n",
    "  model.add(Dense(num_gestures,activation='softmax'))\n",
    "\n",
    "  print('Total params: {:,}'.format(model.count_params()))\n",
    "\n",
    "  return build_model(\"cnn3d_only\", model, batch_size, num_epochs, num_gesture_frames, image_size, num_channels, learning_rate),model"
   ]
  },
  {
   "cell_type": "markdown",
   "metadata": {
    "id": "9uhdm4l2gfSP"
   },
   "source": [
    "### Model - 1"
   ]
  },
  {
   "cell_type": "code",
   "execution_count": null,
   "metadata": {
    "colab": {
     "base_uri": "https://localhost:8080/",
     "height": 363
    },
    "id": "yTiteCw8KUjP",
    "outputId": "fc3c195c-b435-4708-9e7b-1632e9a11abf"
   },
   "outputs": [
    {
     "name": "stdout",
     "output_type": "stream",
     "text": [
      "Total params: 357,541\n"
     ]
    }
   ],
   "source": [
    "st = time.time()\n",
    "hist,model = try_cnn3d_only(batch_size=30, num_epochs=25, num_gesture_frames=30,\n",
    "                                   image_size= 64, num_channels=1, batch_normalize= False,\n",
    "                                   learning_rate= 0.001, dropout= 0.25, dense_neurons= 128)\n",
    "df_train = pd.DataFrame(hist.history)\n",
    "df_best = df_train[df_train['val_loss'] == df_train['val_loss'].min()]\n",
    "et = time.time()\n",
    "elapsed_time = et - st\n",
    "mbs = get_model_memory_usage(batch_size, model)\n",
    "print(\"Execution time (secs):\", elapsed_time, \"Memory usage(MB)\", mbs)\n",
    "print(\"Best stats:\")\n",
    "print(df_best)\n"
   ]
  },
  {
   "cell_type": "markdown",
   "metadata": {
    "id": "y3TPZGfXgh5C"
   },
   "source": [
    "### Model - 2"
   ]
  },
  {
   "cell_type": "code",
   "execution_count": null,
   "metadata": {
    "id": "7BZ2bTTWgkoQ"
   },
   "outputs": [],
   "source": [
    "st = time.time()\n",
    "hist,model = try_cnn3d_only(batch_size= 40, num_epochs= 25, num_gesture_frames= 30,\n",
    "                                   image_size= 128, num_channels= 3, batch_normalize= False,\n",
    "                                   learning_rate= 0.001, dropout= 0.25, dense_neurons= 256)\n",
    "df_train = pd.DataFrame(hist.history)\n",
    "df_best = df_train[df_train['val_loss'] == df_train['val_loss'].min()]\n",
    "et = time.time()\n",
    "elapsed_time = et - st\n",
    "mbs = get_model_memory_usage(batch_size, model)\n",
    "print(\"Execution time (secs):\", elapsed_time, \"Memory usage(MB)\", mbs)\n",
    "print(\"Best stats:\")\n",
    "print(df_best)\n",
    "\n"
   ]
  },
  {
   "cell_type": "markdown",
   "metadata": {
    "id": "dz5z4B6Pgl6K"
   },
   "source": [
    "### Model - 3"
   ]
  },
  {
   "cell_type": "code",
   "execution_count": null,
   "metadata": {
    "id": "dZW1GEFhgoNq"
   },
   "outputs": [],
   "source": [
    "st = time.time()\n",
    "hist,model = try_cnn3d_only(batch_size= 40, num_epochs= 30, num_gesture_frames= 16,\n",
    "                                   image_size= 140, num_channels= 3, batch_normalize= False,\n",
    "                                   learning_rate= 0.001, dropout=0.25, dense_neurons=256)\n",
    "df_train = pd.DataFrame(hist.history)\n",
    "df_best = df_train[df_train['val_loss'] == df_train['val_loss'].min()]\n",
    "et = time.time()\n",
    "elapsed_time = et - st\n",
    "mbs = get_model_memory_usage(batch_size, model)\n",
    "print(\"Execution time (secs):\", elapsed_time, \"Memory usage(MB)\", mbs)\n",
    "print(\"Best stats:\")\n",
    "print(df_best)\n",
    "\n"
   ]
  },
  {
   "cell_type": "markdown",
   "metadata": {
    "id": "YAt_J3_egpdg"
   },
   "source": [
    "### Model - 4"
   ]
  },
  {
   "cell_type": "code",
   "execution_count": null,
   "metadata": {
    "id": "5qiF5nNlgrn2"
   },
   "outputs": [],
   "source": [
    "st = time.time()\n",
    "hist,model = try_cnn3d_only(batch_size= 30, num_epochs=25, num_gesture_frames= 30,\n",
    "                                   image_size= 64, num_channels=1, batch_normalize=False,\n",
    "                                   learning_rate= 0.001, dropout= 0.25, dense_neurons=128)\n",
    "df_train = pd.DataFrame(hist.history)\n",
    "df_best = df_train[df_train['val_loss'] == df_train['val_loss'].min()]\n",
    "et = time.time()\n",
    "elapsed_time = et - st\n",
    "mbs = get_model_memory_usage(batch_size, model)\n",
    "print(\"Execution time (secs):\", elapsed_time, \"Memory usage(MB)\", mbs)\n",
    "print(\"Best stats:\")\n",
    "print(df_best)\n",
    "\n"
   ]
  },
  {
   "cell_type": "markdown",
   "metadata": {
    "id": "g9ztEualFIcv"
   },
   "source": [
    "### CNN_LSTM function:"
   ]
  },
  {
   "cell_type": "code",
   "execution_count": null,
   "metadata": {
    "id": "Tx7eJkTiXT5l"
   },
   "outputs": [],
   "source": [
    "def try_cnn_lstm(batch_size, num_epochs, num_gesture_frames, image_size, num_channels, batch_normalize, learning_rate, dropout, dense_neurons, rnn_cells) :\n",
    "  model = Sequential()\n",
    "\n",
    "  model.add(TimeDistributed(Conv2D(16, (3, 3) , padding='same', activation='relu'),\n",
    "                            input_shape=(num_gesture_frames, image_size, image_size, num_channels)))\n",
    "  model.add(TimeDistributed(MaxPooling2D((2, 2))))\n",
    "  \n",
    "  model.add(TimeDistributed(Conv2D(32, (3, 3) , padding='same', activation='relu')))\n",
    "  model.add(TimeDistributed(MaxPooling2D((2, 2))))\n",
    "  \n",
    "  model.add(TimeDistributed(Conv2D(64, (3, 3) , padding='same', activation='relu')))\n",
    "  model.add(TimeDistributed(MaxPooling2D((2, 2))))\n",
    "  \n",
    "  model.add(TimeDistributed(Conv2D(128, (3, 3) , padding='same', activation='relu')))\n",
    "  model.add(TimeDistributed(MaxPooling2D((2, 2))))\n",
    "\n",
    "  model.add(TimeDistributed(Conv2D(256, (3, 3) , padding='same', activation='relu')))\n",
    "  model.add(TimeDistributed(MaxPooling2D((2, 2))))\n",
    "\n",
    "  model.add(TimeDistributed(Flatten()))\n",
    "\n",
    "  model.add(LSTM(rnn_cells))\n",
    "  \n",
    "  model.add(Dense(dense_neurons, activation='relu'))\n",
    "  model.add(Dropout(dropout))\n",
    "\n",
    "  model.add(Dense(num_gestures, activation='softmax'))\n",
    "\n",
    "  print('Total params: {:,}'.format(model.count_params()))\n",
    "\n",
    "  return build_model(\"cnn_lstm\", model, batch_size, num_epochs, num_gesture_frames, image_size, num_channels, learning_rate), model"
   ]
  },
  {
   "cell_type": "markdown",
   "metadata": {
    "id": "vRnZ144ldw5h"
   },
   "source": [
    "### Model - 5"
   ]
  },
  {
   "cell_type": "code",
   "execution_count": null,
   "metadata": {
    "id": "YoqzhF8kK9Rf"
   },
   "outputs": [],
   "source": [
    "hist,model = try_cnn_lstm(batch_size=30, num_epochs=20, num_gesture_frames= 30,\n",
    "                                      image_size=64, num_channels=3, batch_normalize=False,\n",
    "                                      learning_rate=.001, dropout=0.25, dense_neurons=128, rnn_cells=64)\n",
    "df_train = pd.DataFrame(hist.history)\n",
    "df_best = df_train[df_train['val_loss'] == df_train['val_loss'].min()]\n",
    "et = time.time()\n",
    "elapsed_time = et - st\n",
    "mbs = get_model_memory_usage(batch_size, model)\n",
    "print(\"Execution time (secs):\", elapsed_time, \"Memory usage(MB)\", mbs)\n",
    "print(\"Best stats:\")\n",
    "print(df_best)\n",
    "\n",
    " "
   ]
  },
  {
   "cell_type": "markdown",
   "metadata": {
    "id": "IutwxRt8eTuG"
   },
   "source": [
    "### Model - 6"
   ]
  },
  {
   "cell_type": "code",
   "execution_count": null,
   "metadata": {
    "id": "ngbKrtK8eXGs"
   },
   "outputs": [],
   "source": [
    "hist,model = try_cnn_lstm(batch_size=40, num_epochs=25, num_gesture_frames=30,\n",
    "                                      image_size=128 ,num_channels=1, batch_normalize=False,\n",
    "                                      learning_rate= 0.001, dropout=0.25, dense_neurons=128, rnn_cells=128)\n",
    "df_train = pd.DataFrame(hist.history)\n",
    "df_best = df_train[df_train['val_loss'] == df_train['val_loss'].min()]\n",
    "et = time.time()\n",
    "elapsed_time = et - st\n",
    "mbs = get_model_memory_usage(batch_size, model)\n",
    "print(\"Execution time (secs):\", elapsed_time, \"Memory usage(MB)\", mbs)\n",
    "print(\"Best stats:\")\n",
    "print(df_best)\n",
    "\n",
    " "
   ]
  },
  {
   "cell_type": "markdown",
   "metadata": {
    "id": "1SG4FY1yeZlK"
   },
   "source": [
    "### Model - 7"
   ]
  },
  {
   "cell_type": "code",
   "execution_count": null,
   "metadata": {
    "id": "LcDgcAKGeefX"
   },
   "outputs": [],
   "source": [
    "hist,model = try_cnn_lstm(batch_size=25, num_epochs=20, num_gesture_frames=30,\n",
    "                                      image_size=140, num_channels=1, batch_normalize=False,\n",
    "                                      learning_rate=0.001, dropout= 0.25, dense_neurons= 256, rnn_cells= 256)\n",
    "df_train = pd.DataFrame(hist.history)\n",
    "df_best = df_train[df_train['val_loss'] == df_train['val_loss'].min()]\n",
    "et = time.time()\n",
    "#elapsed_time = et - st\n",
    "mbs = get_model_memory_usage(batch_size, model)\n",
    "print(\"Execution time (secs):\", elapsed_time, \"Memory usage(MB)\", mbs)\n",
    "print(\"Best stats:\")\n",
    "print(df_best)\n",
    "\n",
    " "
   ]
  },
  {
   "cell_type": "markdown",
   "metadata": {
    "id": "kwmh5H6oehKk"
   },
   "source": [
    "### Model - 8"
   ]
  },
  {
   "cell_type": "code",
   "execution_count": null,
   "metadata": {
    "id": "UjcM1bGBej1m"
   },
   "outputs": [],
   "source": [
    "hist,model = try_cnn_lstm(batch_size= 30, num_epochs= 30, num_gesture_frames= 30,\n",
    "                                      image_size= 64, num_channels= 3, batch_normalize=False,\n",
    "                                      learning_rate= 0.001, dropout= 0.25, dense_neurons= 512, rnn_cells= 256)\n",
    "df_train = pd.DataFrame(hist.history)\n",
    "df_best = df_train[df_train['val_loss'] == df_train['val_loss'].min()]\n",
    "et = time.time()\n",
    "elapsed_time = et - st\n",
    "mbs = get_model_memory_usage(batch_size, model)\n",
    "print(\"Execution time (secs):\", elapsed_time, \"Memory usage(MB)\", mbs)\n",
    "print(\"Best stats:\")\n",
    "print(df_best)\n",
    "\n",
    " "
   ]
  },
  {
   "cell_type": "markdown",
   "metadata": {
    "id": "1Qxod_SoFO3S"
   },
   "source": [
    "### CNN_GRU function:"
   ]
  },
  {
   "cell_type": "code",
   "execution_count": null,
   "metadata": {
    "id": "doZs9afNdLNT"
   },
   "outputs": [],
   "source": [
    "def try_cnn_GRU(batch_size, num_epochs, num_gesture_frames, image_size, num_channels, batch_normalize, learning_rate, dropout, dense_neurons, rnn_cells) :\n",
    "  model = Sequential()\n",
    "\n",
    "  model.add(TimeDistributed(Conv2D(16, (3, 3) , padding='same', activation='relu'),\n",
    "                            input_shape=(num_gesture_frames, image_size, image_size, num_channels)))\n",
    "  model.add(TimeDistributed(MaxPooling2D((2, 2))))\n",
    "  \n",
    "  model.add(TimeDistributed(Conv2D(32, (3, 3) , padding='same', activation='relu')))\n",
    "  model.add(TimeDistributed(MaxPooling2D((2, 2))))\n",
    "  \n",
    "  model.add(TimeDistributed(Conv2D(64, (3, 3) , padding='same', activation='relu')))\n",
    "  model.add(TimeDistributed(MaxPooling2D((2, 2))))\n",
    "  \n",
    "  model.add(TimeDistributed(Conv2D(128, (3, 3) , padding='same', activation='relu')))\n",
    "  model.add(TimeDistributed(MaxPooling2D((2, 2))))\n",
    "\n",
    "  model.add(TimeDistributed(Conv2D(256, (3, 3) , padding='same', activation='relu')))\n",
    "  model.add(TimeDistributed(MaxPooling2D((2, 2))))\n",
    "\n",
    "  model.add(TimeDistributed(Flatten()))\n",
    "\n",
    "  model.add(GRU(rnn_cells))\n",
    "  \n",
    "  model.add(Dense(dense_neurons, activation='relu'))\n",
    "  model.add(Dropout(dropout))\n",
    "\n",
    "  model.add(Dense(num_gestures, activation='softmax'))\n",
    "\n",
    "  print('Total params: {:,}'.format(model.count_params()))\n",
    "\n",
    "  return build_model(\"cnn_gru\", model, batch_size, num_epochs, num_gesture_frames, image_size, num_channels, learning_rate), model"
   ]
  },
  {
   "cell_type": "markdown",
   "metadata": {
    "id": "uDtIh0xFfMao"
   },
   "source": [
    "### Model - 9"
   ]
  },
  {
   "cell_type": "code",
   "execution_count": null,
   "metadata": {
    "id": "SEGPCQIELFyK"
   },
   "outputs": [],
   "source": [
    " hist,model = try_cnn_GRU(batch_size=30, num_epochs=25, num_gesture_frames=30,\n",
    "                                      image_size= 64, num_channels= 3, batch_normalize=False,\n",
    "                                      learning_rate= 0.001, dropout= 0.25, dense_neurons= 128, rnn_cells=128)\n",
    "df_train = pd.DataFrame(hist.history)\n",
    "df_best = df_train[df_train['val_loss'] == df_train['val_loss'].min()]\n",
    "et = time.time()\n",
    "elapsed_time = et - st\n",
    "mbs = get_model_memory_usage(batch_size, model)\n",
    "print(\"Execution time (secs):\", elapsed_time, \"Memory usage(MB)\", mbs)\n",
    "print(\"Best stats:\")\n",
    "print(df_best)\n"
   ]
  },
  {
   "cell_type": "markdown",
   "metadata": {
    "id": "boCNUF2ZfQQL"
   },
   "source": [
    "### Model - 10"
   ]
  },
  {
   "cell_type": "code",
   "execution_count": null,
   "metadata": {
    "id": "OcVMakzefS7P"
   },
   "outputs": [],
   "source": [
    " hist,model = try_cnn_GRU(batch_size= 40, num_epochs=30, num_gesture_frames=30,\n",
    "                                      image_size= 128, num_channels= 1, batch_normalize=False,\n",
    "                                      learning_rate= 0.001, dropout= 0.25, dense_neurons= 256, rnn_cells=128)\n",
    "df_train = pd.DataFrame(hist.history)\n",
    "df_best = df_train[df_train['val_loss'] == df_train['val_loss'].min()]\n",
    "et = time.time()\n",
    "elapsed_time = et - st\n",
    "mbs = get_model_memory_usage(batch_size, model)\n",
    "print(\"Execution time (secs):\", elapsed_time, \"Memory usage(MB)\", mbs)\n",
    "print(\"Best stats:\")\n",
    "print(df_best)\n"
   ]
  },
  {
   "cell_type": "markdown",
   "metadata": {
    "id": "HIrZ8YW2fipX"
   },
   "source": [
    "### Model - 11"
   ]
  },
  {
   "cell_type": "code",
   "execution_count": null,
   "metadata": {
    "id": "uIkfhq8wflbm"
   },
   "outputs": [],
   "source": [
    " hist,model = try_cnn_GRU(batch_size= 30, num_epochs= 20, num_gesture_frames=30,\n",
    "                                      image_size= 64, num_channels=3, batch_normalize=False,\n",
    "                                      learning_rate= 0.001, dropout = 0.25, dense_neurons= 256, rnn_cells=256)\n",
    "df_train = pd.DataFrame(hist.history)\n",
    "df_best = df_train[df_train['val_loss'] == df_train['val_loss'].min()]\n",
    "et = time.time()\n",
    "elapsed_time = et - st\n",
    "mbs = get_model_memory_usage(batch_size, model)\n",
    "print(\"Execution time (secs):\", elapsed_time, \"Memory usage(MB)\", mbs)\n",
    "print(\"Best stats:\")\n",
    "print(df_best)\n"
   ]
  },
  {
   "cell_type": "markdown",
   "metadata": {
    "id": "neXF1BDqfo_P"
   },
   "source": [
    "### Model - 12\n",
    "\n",
    "---\n",
    "\n",
    "\n",
    "\n",
    "---\n",
    "\n"
   ]
  },
  {
   "cell_type": "code",
   "execution_count": null,
   "metadata": {
    "id": "f98oJ2UUft-Y"
   },
   "outputs": [],
   "source": [
    " hist,model = try_cnn_GRU(batch_size=40, num_epochs=25, num_gesture_frames= 30,\n",
    "                                      image_size=100, num_channels=1, batch_normalize=False,\n",
    "                                      learning_rate=0.001, dropout= 0.25, dense_neurons=512, rnn_cells=128)\n",
    "df_train = pd.DataFrame(hist.history)\n",
    "df_best = df_train[df_train['val_loss'] == df_train['val_loss'].min()]\n",
    "et = time.time()\n",
    "elapsed_time = et - st\n",
    "mbs = get_model_memory_usage(batch_size, model)\n",
    "print(\"Execution time (secs):\", elapsed_time, \"Memory usage(MB)\", mbs)\n",
    "print(\"Best stats:\")\n",
    "print(df_best)\n"
   ]
  },
  {
   "cell_type": "markdown",
   "metadata": {
    "id": "4nNbsOWHFWdG"
   },
   "source": [
    "### TL_MobileNet_LSTM:"
   ]
  },
  {
   "cell_type": "code",
   "execution_count": null,
   "metadata": {
    "id": "mKRcfvoqhK5_"
   },
   "outputs": [],
   "source": [
    "def try_TL_MobileNet_LSTM(batch_size, num_epochs, num_gesture_frames, image_size, num_channels, batch_normalize, learning_rate, dropout, dense_neurons, rnn_cells) :\n",
    "\n",
    "  mobilenet_tl = tf.keras.applications.MobileNetV2(weights='imagenet', include_top=False, classes=num_gestures)\n",
    "\n",
    "  model = Sequential()\n",
    "  model.add(TimeDistributed(mobilenet_tl, input_shape=(num_gesture_frames,image_size,image_size,num_channels)))\n",
    "   \n",
    "  for layer in model.layers:\n",
    "      layer.trainable = False\n",
    "  \n",
    "  #model.add(TimeDistributed(BatchNormalization()))\n",
    "  model.add(TimeDistributed(MaxPooling2D((2, 2))))\n",
    "  model.add(TimeDistributed(Flatten()))\n",
    "\n",
    "  model.add(LSTM(rnn_cells))\n",
    "  model.add(Dropout(dropout))\n",
    "  \n",
    "  model.add(Dense(dense_neurons,activation='relu'))\n",
    "  model.add(Dropout(dropout))\n",
    "  \n",
    "  model.add(Dense(num_gestures, activation='softmax'))\n",
    "  \n",
    "  print('Total params: {:,}'.format(model.count_params()))\n",
    "\n",
    "  return build_model(\"TL_MobileNet_LSTM\", model, batch_size, num_epochs, num_gesture_frames, image_size, num_channels, learning_rate), model"
   ]
  },
  {
   "cell_type": "markdown",
   "metadata": {
    "id": "wshVFqbgf0UR"
   },
   "source": [
    "### Model - 13"
   ]
  },
  {
   "cell_type": "code",
   "execution_count": null,
   "metadata": {
    "id": "DHB5cp69LUFT"
   },
   "outputs": [],
   "source": [
    " hist,model = try_TL_MobileNet_LSTM(batch_size=25, num_epochs= 20, num_gesture_frames=30,\n",
    "                                      image_size=100, num_channels=3, batch_normalize=False,\n",
    "                                      learning_rate= 0.001, dropout= 0.25, dense_neurons=128, rnn_cells=64)"
   ]
  },
  {
   "cell_type": "markdown",
   "metadata": {
    "id": "0NfP2Ah6f6Fj"
   },
   "source": [
    "### Model - 14"
   ]
  },
  {
   "cell_type": "code",
   "execution_count": null,
   "metadata": {
    "id": "6Swb75FDf9YC"
   },
   "outputs": [],
   "source": [
    " hist,model = try_TL_MobileNet_LSTM(batch_size=30, num_epochs=25, num_gesture_frames= 30,\n",
    "                                      image_size=140, num_channels= 3, batch_normalize=False,\n",
    "                                      learning_rate= 0.001, dropout= 0.25, dense_neurons= 256, rnn_cells=256)"
   ]
  },
  {
   "cell_type": "markdown",
   "metadata": {
    "id": "FFnyEtm6f_v0"
   },
   "source": [
    "### Model - 15"
   ]
  },
  {
   "cell_type": "code",
   "execution_count": null,
   "metadata": {
    "id": "OZeLiSACgC_Y"
   },
   "outputs": [],
   "source": [
    " hist,model = try_TL_MobileNet_LSTM(batch_size= 30, num_epochs=20, num_gesture_frames= 30,\n",
    "                                      image_size=64, num_channels=3, batch_normalize=False,\n",
    "                                      learning_rate= 0.001, dropout= 0.25, dense_neurons= 128, rnn_cells=128)"
   ]
  },
  {
   "cell_type": "markdown",
   "metadata": {
    "id": "WTJhYme2gERR"
   },
   "source": [
    "### Model - 16"
   ]
  },
  {
   "cell_type": "code",
   "execution_count": null,
   "metadata": {
    "id": "BKnOpHlCgG4h"
   },
   "outputs": [],
   "source": [
    " hist,model = try_TL_MobileNet_LSTM(batch_size= 40, num_epochs=20, num_gesture_frames=30,\n",
    "                                      image_size=128, num_channels= 3, batch_normalize=False,\n",
    "                                      learning_rate=0.001, dropout=0.25, dense_neurons=256, rnn_cells=128)"
   ]
  },
  {
   "cell_type": "markdown",
   "metadata": {
    "id": "B1LAHLpaFqGG"
   },
   "source": [
    "### TL_MobileNet_GRU:"
   ]
  },
  {
   "cell_type": "code",
   "execution_count": null,
   "metadata": {
    "id": "xZYKlMqam19I"
   },
   "outputs": [],
   "source": [
    "def try_TL_MobileNet_GRU(batch_size, num_epochs, num_gesture_frames, image_size, num_channels, batch_normalize, learning_rate, dropout, dense_neurons, rnn_cells) :\n",
    "\n",
    "  mobilenet_tl = tf.keras.applications.MobileNet(weights='imagenet', include_top=False, classes=num_gestures)\n",
    "\n",
    "  model = Sequential()\n",
    "  model.add(TimeDistributed(mobilenet_tl, input_shape=(num_gesture_frames,image_size,image_size,num_channels)))\n",
    "   \n",
    "  for layer in model.layers:\n",
    "      layer.trainable = False\n",
    "  \n",
    "  #model.add(TimeDistributed(BatchNormalization()))\n",
    "  model.add(TimeDistributed(MaxPooling2D((2, 2))))\n",
    "  model.add(TimeDistributed(Flatten()))\n",
    "\n",
    "  model.add(GRU(rnn_cells))\n",
    "  model.add(Dropout(dropout))\n",
    "  \n",
    "  model.add(Dense(dense_neurons,activation='relu'))\n",
    "  model.add(Dropout(dropout))\n",
    "  \n",
    "  model.add(Dense(num_gestures, activation='softmax'))\n",
    "  \n",
    "  print('Total params: {:,}'.format(model.count_params()))\n",
    "\n",
    "  return build_model(\"TL_MobileNet_GRU\", model, batch_size, num_epochs, num_gesture_frames, image_size, num_channels, learning_rate), model"
   ]
  },
  {
   "cell_type": "markdown",
   "metadata": {
    "id": "IiPpSv8AgLMu"
   },
   "source": [
    "### Model - 17"
   ]
  },
  {
   "cell_type": "code",
   "execution_count": null,
   "metadata": {
    "id": "2wjTUsSYLbfN"
   },
   "outputs": [],
   "source": [
    "hist,model = try_TL_MobileNet_GRU(batch_size= 30, num_epochs= 25, num_gesture_frames= 30,\n",
    "                                      image_size= 64, num_channels= 3, batch_normalize=False,\n",
    "                                      learning_rate= 0.001, dropout= 0.25, dense_neurons= 128, rnn_cells=256)"
   ]
  },
  {
   "cell_type": "markdown",
   "metadata": {
    "id": "pxXeQ1_2gPBm"
   },
   "source": [
    "### Model - 18"
   ]
  },
  {
   "cell_type": "code",
   "execution_count": null,
   "metadata": {
    "id": "NBASHeMnesjz"
   },
   "outputs": [],
   "source": [
    "hist,model = try_TL_MobileNet_GRU(batch_size= 35, num_epochs= 25, num_gesture_frames= 30,\n",
    "                                      image_size= 100, num_channels= 3, batch_normalize=False,\n",
    "                                      learning_rate= 0.001, dropout= 0.25, dense_neurons= 64, rnn_cells=128)"
   ]
  },
  {
   "cell_type": "markdown",
   "metadata": {
    "id": "deOr0hjhgTcv"
   },
   "source": [
    "### Model - 19"
   ]
  },
  {
   "cell_type": "code",
   "execution_count": null,
   "metadata": {
    "id": "haVXFJlBgVak"
   },
   "outputs": [],
   "source": [
    "hist,model = try_TL_MobileNet_GRU(batch_size= 40, num_epochs= 25, num_gesture_frames= 30,\n",
    "                                      image_size= 64, num_channels= 3, batch_normalize=False,\n",
    "                                      learning_rate= 0.001, dropout= 0.25, dense_neurons= 128, rnn_cells=64)"
   ]
  },
  {
   "cell_type": "markdown",
   "metadata": {
    "id": "87XqlnfvgW5j"
   },
   "source": [
    "### Model - 20"
   ]
  },
  {
   "cell_type": "code",
   "execution_count": null,
   "metadata": {
    "id": "iQsUrQXCgZNj"
   },
   "outputs": [],
   "source": [
    "hist,model = try_TL_MobileNet_GRU(batch_size= 30, num_epochs= 20, num_gesture_frames= 30,\n",
    "                                      image_size= 140, num_channels= 3, batch_normalize=False,\n",
    "                                      learning_rate= 0.001, dropout= 0.25, dense_neurons= 512, rnn_cells=256)"
   ]
  },
  {
   "cell_type": "markdown",
   "metadata": {
    "id": "1X_-WZdmjLh4"
   },
   "source": [
    "## After doing all the experiments, we finalized Model 8 - CNN+LSTM, which performed well.\n",
    "__Reason:__\n",
    "\n",
    "__- (Training Accuracy : 93%, Validation Accuracy : 85%)__\n",
    "\n",
    "__- Number of Parameters(1,657,445)less according to other models performance__\n",
    "\n",
    "__- Learning rate gradually decreacing after 16 Epoch__\n",
    "\n",
    "\n",
    "__The best weights of CNN-LSTM: model-00020-0.19649-0.93514-0.45695-0.85000.h5 (19 MB). we considered this weight for model testing, Let's have look at the performance below__\n"
   ]
  },
  {
   "cell_type": "markdown",
   "metadata": {
    "id": "JCPkUqpAjTIK"
   },
   "source": [
    "# Loading model and Testing"
   ]
  },
  {
   "cell_type": "code",
   "execution_count": null,
   "metadata": {
    "id": "QWlUwA1DjM56"
   },
   "outputs": [],
   "source": [
    "import time\n",
    "from keras.models import load_model\n",
    "model = load_model('model_init_2020-06-2522_00_52.036987/model-00020-0.19649-0.93514-0.45695-0.85000.h5')"
   ]
  },
  {
   "cell_type": "code",
   "execution_count": null,
   "metadata": {
    "id": "6hZur-wAjawz"
   },
   "outputs": [],
   "source": [
    "test_generator=RNNCNN1()\n",
    "test_generator.initialize_path(project_folder)\n",
    "test_generator.initialize_image_properties(image_height=120,image_width=120)\n",
    "test_generator.initialize_hyperparams(frames_to_sample=18,batch_size=20,num_epochs=20)\n",
    "\n",
    "g=test_generator.generator(test_generator.val_path,test_generator.val_doc,augment=False)\n",
    "batch_data, batch_labels=next(g)"
   ]
  },
  {
   "cell_type": "code",
   "execution_count": null,
   "metadata": {
    "id": "1aHQh3kSjd77"
   },
   "outputs": [],
   "source": [
    "batch_labels\n"
   ]
  },
  {
   "cell_type": "code",
   "execution_count": null,
   "metadata": {},
   "outputs": [],
   "source": []
  },
  {
   "cell_type": "code",
   "execution_count": null,
   "metadata": {},
   "outputs": [],
   "source": []
  }
 ],
 "metadata": {
  "accelerator": "GPU",
  "colab": {
   "collapsed_sections": [],
   "name": "Gesture_Recognition_Yashraj_Sanjay.ipynb",
   "provenance": []
  },
  "gpuClass": "standard",
  "kernelspec": {
   "display_name": "Python 3 (ipykernel)",
   "language": "python",
   "name": "python3"
  },
  "language_info": {
   "codemirror_mode": {
    "name": "ipython",
    "version": 3
   },
   "file_extension": ".py",
   "mimetype": "text/x-python",
   "name": "python",
   "nbconvert_exporter": "python",
   "pygments_lexer": "ipython3",
   "version": "3.8.10"
  }
 },
 "nbformat": 4,
 "nbformat_minor": 4
}
